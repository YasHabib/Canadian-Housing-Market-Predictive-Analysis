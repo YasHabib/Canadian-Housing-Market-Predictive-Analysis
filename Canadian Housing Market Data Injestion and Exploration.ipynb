{
 "cells": [
  {
   "cell_type": "markdown",
   "id": "cd323bbe",
   "metadata": {},
   "source": [
    "# Initial step would be to ingest data from different sources through APIs.\n",
    "#### The goal is to get the data for \n",
    "* Canadian Population data\n",
    "* Employment rates and income levels\n",
    "* Government Policies and Taxation, such as Mortgage rates\n",
    "* Urbanization and Infrastructure Development \n",
    "* Economic Indicators such as GDP Growth, Inflation rates, trade agreements \n",
    "* Migration and demographics just as immigration, inter-province migrations etc\n",
    "* Land and Zoning Laws\n",
    "* Climate and Environmental Factors\n",
    "* Rental market trends and short term rentals uch as Airbnb to inflate prices\n",
    "* Energy cost and building materials"
   ]
  },
  {
   "cell_type": "markdown",
   "id": "ef35e0da",
   "metadata": {},
   "source": [
    "#### Importing libraries"
   ]
  },
  {
   "cell_type": "code",
   "execution_count": 8,
   "id": "5329e447",
   "metadata": {},
   "outputs": [],
   "source": [
    "import pandas as pd\n",
    "import requests\n",
    "from bs4 import BeautifulSoup\n"
   ]
  },
  {
   "cell_type": "markdown",
   "id": "e64eac53",
   "metadata": {},
   "source": [
    "### Pulling population data via web scraping from WorldPopulationReview.com and exploing that data"
   ]
  },
  {
   "cell_type": "code",
   "execution_count": 9,
   "id": "b3b06907",
   "metadata": {},
   "outputs": [],
   "source": [
    "url = \"https://worldpopulationreview.com/canadian-provinces\"\n",
    "response = requests.get(url)\n"
   ]
  },
  {
   "cell_type": "code",
   "execution_count": 41,
   "id": "a1f9a32f",
   "metadata": {
    "scrolled": true
   },
   "outputs": [],
   "source": [
    "soup = BeautifulSoup(response.text, \"html.parser\")\n"
   ]
  },
  {
   "cell_type": "markdown",
   "id": "1ff8af2c",
   "metadata": {},
   "source": [
    "Upon inspecting the webpage, we find that the table we are looking to scrape is under the Div \"m-0 rounded-xl border border-wpr-table_border max-h-[60vh] overflow-auto p-0\" and the table class is \"wpr-table !border-none\""
   ]
  },
  {
   "cell_type": "code",
   "execution_count": 40,
   "id": "c098acae",
   "metadata": {},
   "outputs": [],
   "source": [
    "table_div = soup.find('div', class_='m-0 rounded-xl border border-wpr-table_border max-h-[60vh] overflow-auto p-0')\n",
    "table = table_div.find('table', class_='wpr-table !border-none')"
   ]
  },
  {
   "cell_type": "code",
   "execution_count": 50,
   "id": "1f057093",
   "metadata": {},
   "outputs": [
    {
     "name": "stdout",
     "output_type": "stream",
     "text": [
      "Headers:\n",
      "['Province', '2024 Pop.', '2022 Pop.', '2016 Pop.', '2011 Pop.', 'Change']\n",
      "\n",
      "Rows:\n",
      "['Ontario', '15,996,989', '15,262,660', '13,448,494', '12,851,821', '2.19%']\n",
      "['Quebec', '9,030,684', '8,751,352', '8,164,361', '7,903,000', '1.27%']\n",
      "['British Columbia', '5,646,467', '5,368,266', '4,648,055', '4,400,057', '2.46%']\n",
      "['Alberta', '4,849,906', '4,601,314', '4,067,175', '3,645,257', '2.22%']\n",
      "['Manitoba', '1,484,135', '1,420,228', '1,278,365', '1,208,268', '1.88%']\n",
      "['Saskatchewan', '1,231,043', '1,205,119', '1,098,352', '1,053,960', '1.44%']\n",
      "['Nova Scotia', '1,072,545', '1,030,953', '923,598', '921,727', '1.89%']\n",
      "['New Brunswick', '850,894', '820,786', '747,101', '751,171', '1.64%']\n",
      "['Newfoundland', '541,391', '528,818', '519,716', '514,536', '0.51%']\n",
      "['Prince Edward Island', '177,081', '172,707', '142,907', '140,204', '2.72%']\n",
      "['Yukon', '45,750', '43,964', '35,874', '33,897', '3.09%']\n",
      "['Northwest Territory', '44,920', '45,602', '41,786', '41,462', '0.91%']\n",
      "['Nunavut', '40,758', '40,586', '35,944', '31,906', '1.58%']\n",
      "                Province   2024 Pop.   2022 Pop.   2016 Pop.   2011 Pop.  \\\n",
      "0                Ontario  15,996,989  15,262,660  13,448,494  12,851,821   \n",
      "1                 Quebec   9,030,684   8,751,352   8,164,361   7,903,000   \n",
      "2       British Columbia   5,646,467   5,368,266   4,648,055   4,400,057   \n",
      "3                Alberta   4,849,906   4,601,314   4,067,175   3,645,257   \n",
      "4               Manitoba   1,484,135   1,420,228   1,278,365   1,208,268   \n",
      "5           Saskatchewan   1,231,043   1,205,119   1,098,352   1,053,960   \n",
      "6            Nova Scotia   1,072,545   1,030,953     923,598     921,727   \n",
      "7          New Brunswick     850,894     820,786     747,101     751,171   \n",
      "8           Newfoundland     541,391     528,818     519,716     514,536   \n",
      "9   Prince Edward Island     177,081     172,707     142,907     140,204   \n",
      "10                 Yukon      45,750      43,964      35,874      33,897   \n",
      "11   Northwest Territory      44,920      45,602      41,786      41,462   \n",
      "12               Nunavut      40,758      40,586      35,944      31,906   \n",
      "\n",
      "   Change  \n",
      "0   2.19%  \n",
      "1   1.27%  \n",
      "2   2.46%  \n",
      "3   2.22%  \n",
      "4   1.88%  \n",
      "5   1.44%  \n",
      "6   1.89%  \n",
      "7   1.64%  \n",
      "8   0.51%  \n",
      "9   2.72%  \n",
      "10  3.09%  \n",
      "11  0.91%  \n",
      "12  1.58%  \n"
     ]
    }
   ],
   "source": [
    "if table is None:\n",
    "    print(\"Table not found\")\n",
    "else:\n",
    "    # Extract the header of the table\n",
    "    header_row = table.find_all('th')\n",
    "    headers = [header.text.strip() for header in header_row[:6]]  # Only keep the first 6 columns as headers\n",
    "    print(\"Headers:\")\n",
    "    print(headers)\n",
    "    \n",
    "    \n",
    "    # Extract all the rows of the table\n",
    "    rows = []\n",
    "    for row in table.find_all('tr')[1:]:  # Skip the header row\n",
    "        cols = row.find_all('td')\n",
    "\n",
    "        # Check if the row has data\n",
    "        if cols:\n",
    "            # Extract the province name from the first column's <a> tag\n",
    "            province = row.find('th').find('a').text.strip()  # Province is in the first <th> column with <a> tag\n",
    "            data = [province] + [col.text.strip() for col in cols]  # Add province name to the data\n",
    "\n",
    "            # Skip rows that don't match the number of columns\n",
    "            if len(data) == len(headers):\n",
    "                rows.append(data)\n",
    "\n",
    "    # Print out the rows\n",
    "    print(\"\\nRows:\")\n",
    "    for r in rows:\n",
    "        print(r)\n",
    "\n",
    "    # Create a DataFrame for easy data manipulation\n",
    "    df = pd.DataFrame(rows, columns=headers)\n",
    "\n",
    "    # Print the DataFrame to check the scraped data\n",
    "    print(df)"
   ]
  },
  {
   "cell_type": "code",
   "execution_count": 55,
   "id": "178fa84e",
   "metadata": {},
   "outputs": [
    {
     "name": "stdout",
     "output_type": "stream",
     "text": [
      "                Province  2024 Pop.  2022 Pop.  2016 Pop.  2011 Pop.  Change\n",
      "0                Ontario   15996989   15262660   13448494   12851821    2.19\n",
      "1                 Quebec    9030684    8751352    8164361    7903000    1.27\n",
      "2       British Columbia    5646467    5368266    4648055    4400057    2.46\n",
      "3                Alberta    4849906    4601314    4067175    3645257    2.22\n",
      "4               Manitoba    1484135    1420228    1278365    1208268    1.88\n",
      "5           Saskatchewan    1231043    1205119    1098352    1053960    1.44\n",
      "6            Nova Scotia    1072545    1030953     923598     921727    1.89\n",
      "7          New Brunswick     850894     820786     747101     751171    1.64\n",
      "8           Newfoundland     541391     528818     519716     514536    0.51\n",
      "9   Prince Edward Island     177081     172707     142907     140204    2.72\n",
      "10                 Yukon      45750      43964      35874      33897    3.09\n",
      "11   Northwest Territory      44920      45602      41786      41462    0.91\n",
      "12               Nunavut      40758      40586      35944      31906    1.58\n"
     ]
    }
   ],
   "source": [
    "# Convert numeric columns (population and change values) to integers and remove commas\n",
    "for col in df.columns[1:]:  # Skip the 'Province' column\n",
    "    df[col] = df[col].replace({',': '', '%':''}, regex=True)  # Remove commas\n",
    "    df[col] = pd.to_numeric(df[col], errors='coerce')  # Convert to numeric, coercing errors to NaN\n",
    "\n",
    "# Print the cleaned DataFrame\n",
    "print(df)"
   ]
  },
  {
   "cell_type": "code",
   "execution_count": null,
   "id": "d0e1e75a",
   "metadata": {},
   "outputs": [],
   "source": []
  },
  {
   "cell_type": "code",
   "execution_count": null,
   "id": "607958c0",
   "metadata": {
    "scrolled": true
   },
   "outputs": [],
   "source": []
  },
  {
   "cell_type": "code",
   "execution_count": null,
   "id": "254b258e",
   "metadata": {},
   "outputs": [],
   "source": []
  }
 ],
 "metadata": {
  "kernelspec": {
   "display_name": "Python 3 (ipykernel)",
   "language": "python",
   "name": "python3"
  },
  "language_info": {
   "codemirror_mode": {
    "name": "ipython",
    "version": 3
   },
   "file_extension": ".py",
   "mimetype": "text/x-python",
   "name": "python",
   "nbconvert_exporter": "python",
   "pygments_lexer": "ipython3",
   "version": "3.9.13"
  }
 },
 "nbformat": 4,
 "nbformat_minor": 5
}
